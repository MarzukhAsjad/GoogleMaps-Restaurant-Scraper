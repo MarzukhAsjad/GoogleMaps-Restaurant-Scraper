{
  "nbformat": 4,
  "nbformat_minor": 0,
  "metadata": {
    "colab": {
      "name": "Restaurant_Scrapper.ipynb",
      "provenance": [],
      "collapsed_sections": [],
      "authorship_tag": "ABX9TyO9fhaI1dUFa8MtQtct30Yk",
      "include_colab_link": true
    },
    "kernelspec": {
      "name": "python3",
      "display_name": "Python 3"
    },
    "language_info": {
      "name": "python"
    }
  },
  "cells": [
    {
      "cell_type": "markdown",
      "metadata": {
        "id": "view-in-github",
        "colab_type": "text"
      },
      "source": [
        "<a href=\"https://colab.research.google.com/github/tanjimanasreen/GoogleMaps-Restaurant-Scraper/blob/main/Restaurant_Scrapper.ipynb\" target=\"_parent\"><img src=\"https://colab.research.google.com/assets/colab-badge.svg\" alt=\"Open In Colab\"/></a>"
      ]
    },
    {
      "cell_type": "markdown",
      "source": [
        "# Libraries\n",
        "---"
      ],
      "metadata": {
        "id": "hV1Q-3eqPWua"
      }
    },
    {
      "cell_type": "code",
      "source": [
        "%%capture\n",
        "\n",
        "!pip install python-google-places"
      ],
      "metadata": {
        "id": "TEhB5B2WKRiK"
      },
      "execution_count": 12,
      "outputs": []
    },
    {
      "cell_type": "code",
      "source": [
        "from googleplaces import GooglePlaces, types, lang\n",
        "import time\n",
        "import pandas as pd"
      ],
      "metadata": {
        "id": "jcc8DMdpQa7u"
      },
      "execution_count": 13,
      "outputs": []
    },
    {
      "cell_type": "markdown",
      "source": [
        "# Location Dataset \n",
        "---\n",
        "This dataset contains the list of Upazilla/Thana for Different Districts of Bangladesh.\n",
        "\n",
        "Credit : [Mobile network coverage in Bangladeshi Upazila or Thana - kaggle](https://www.kaggle.com/mushfiqurrobin/network-coverage)"
      ],
      "metadata": {
        "id": "iycJrIxjPgnT"
      }
    },
    {
      "cell_type": "code",
      "execution_count": 14,
      "metadata": {
        "colab": {
          "base_uri": "https://localhost:8080/"
        },
        "id": "ao7PtuUvTldm",
        "outputId": "a76ce08c-f069-4b89-d107-39c5e3184a23"
      },
      "outputs": [
        {
          "output_type": "stream",
          "name": "stdout",
          "text": [
            "Downloading network-coverage.zip to /content\n",
            "\r  0% 0.00/369k [00:00<?, ?B/s]\n",
            "\r100% 369k/369k [00:00<00:00, 42.9MB/s]\n",
            "Archive:  network-coverage.zip\n",
            "  inflating: network-coverage/Coverage.csv  \n"
          ]
        }
      ],
      "source": [
        "!mkdir ~/.kaggle\n",
        "!cp kaggle.json ~/.kaggle/\n",
        "!chmod 600 ~/.kaggle/kaggle.json\n",
        "!kaggle datasets download -d mushfiqurrobin/network-coverage\n",
        "\n",
        "!mkdir network-coverage\n",
        "!unzip network-coverage.zip -d network-coverage"
      ]
    },
    {
      "cell_type": "code",
      "source": [
        "df = pd.read_csv(\"/content/network-coverage/Coverage.csv\")\n",
        "\n",
        "df_area = df[['Upazila_or_Thana', 'District']]\n",
        "\n",
        "# Checking For Missing Values\n",
        "total = df_area.isnull().sum().sort_values(ascending=False)\n",
        "percent = (df_area.isnull().sum()/df_area.isnull().count()).sort_values(ascending=False)\n",
        "missing_data = pd.concat([total, percent*100], axis=1, keys=['Total', 'Percent'])\n",
        "display(missing_data.head(5))"
      ],
      "metadata": {
        "colab": {
          "base_uri": "https://localhost:8080/",
          "height": 112
        },
        "id": "iZLlVHGwUOYU",
        "outputId": "abc0159e-9ead-4ed1-bf17-016ad572e96f"
      },
      "execution_count": 15,
      "outputs": [
        {
          "output_type": "display_data",
          "data": {
            "text/html": [
              "\n",
              "  <div id=\"df-a56b49d3-0396-4065-9b11-86bef3a6f8d9\">\n",
              "    <div class=\"colab-df-container\">\n",
              "      <div>\n",
              "<style scoped>\n",
              "    .dataframe tbody tr th:only-of-type {\n",
              "        vertical-align: middle;\n",
              "    }\n",
              "\n",
              "    .dataframe tbody tr th {\n",
              "        vertical-align: top;\n",
              "    }\n",
              "\n",
              "    .dataframe thead th {\n",
              "        text-align: right;\n",
              "    }\n",
              "</style>\n",
              "<table border=\"1\" class=\"dataframe\">\n",
              "  <thead>\n",
              "    <tr style=\"text-align: right;\">\n",
              "      <th></th>\n",
              "      <th>Total</th>\n",
              "      <th>Percent</th>\n",
              "    </tr>\n",
              "  </thead>\n",
              "  <tbody>\n",
              "    <tr>\n",
              "      <th>District</th>\n",
              "      <td>0</td>\n",
              "      <td>0.0</td>\n",
              "    </tr>\n",
              "    <tr>\n",
              "      <th>Upazila_or_Thana</th>\n",
              "      <td>0</td>\n",
              "      <td>0.0</td>\n",
              "    </tr>\n",
              "  </tbody>\n",
              "</table>\n",
              "</div>\n",
              "      <button class=\"colab-df-convert\" onclick=\"convertToInteractive('df-a56b49d3-0396-4065-9b11-86bef3a6f8d9')\"\n",
              "              title=\"Convert this dataframe to an interactive table.\"\n",
              "              style=\"display:none;\">\n",
              "        \n",
              "  <svg xmlns=\"http://www.w3.org/2000/svg\" height=\"24px\"viewBox=\"0 0 24 24\"\n",
              "       width=\"24px\">\n",
              "    <path d=\"M0 0h24v24H0V0z\" fill=\"none\"/>\n",
              "    <path d=\"M18.56 5.44l.94 2.06.94-2.06 2.06-.94-2.06-.94-.94-2.06-.94 2.06-2.06.94zm-11 1L8.5 8.5l.94-2.06 2.06-.94-2.06-.94L8.5 2.5l-.94 2.06-2.06.94zm10 10l.94 2.06.94-2.06 2.06-.94-2.06-.94-.94-2.06-.94 2.06-2.06.94z\"/><path d=\"M17.41 7.96l-1.37-1.37c-.4-.4-.92-.59-1.43-.59-.52 0-1.04.2-1.43.59L10.3 9.45l-7.72 7.72c-.78.78-.78 2.05 0 2.83L4 21.41c.39.39.9.59 1.41.59.51 0 1.02-.2 1.41-.59l7.78-7.78 2.81-2.81c.8-.78.8-2.07 0-2.86zM5.41 20L4 18.59l7.72-7.72 1.47 1.35L5.41 20z\"/>\n",
              "  </svg>\n",
              "      </button>\n",
              "      \n",
              "  <style>\n",
              "    .colab-df-container {\n",
              "      display:flex;\n",
              "      flex-wrap:wrap;\n",
              "      gap: 12px;\n",
              "    }\n",
              "\n",
              "    .colab-df-convert {\n",
              "      background-color: #E8F0FE;\n",
              "      border: none;\n",
              "      border-radius: 50%;\n",
              "      cursor: pointer;\n",
              "      display: none;\n",
              "      fill: #1967D2;\n",
              "      height: 32px;\n",
              "      padding: 0 0 0 0;\n",
              "      width: 32px;\n",
              "    }\n",
              "\n",
              "    .colab-df-convert:hover {\n",
              "      background-color: #E2EBFA;\n",
              "      box-shadow: 0px 1px 2px rgba(60, 64, 67, 0.3), 0px 1px 3px 1px rgba(60, 64, 67, 0.15);\n",
              "      fill: #174EA6;\n",
              "    }\n",
              "\n",
              "    [theme=dark] .colab-df-convert {\n",
              "      background-color: #3B4455;\n",
              "      fill: #D2E3FC;\n",
              "    }\n",
              "\n",
              "    [theme=dark] .colab-df-convert:hover {\n",
              "      background-color: #434B5C;\n",
              "      box-shadow: 0px 1px 3px 1px rgba(0, 0, 0, 0.15);\n",
              "      filter: drop-shadow(0px 1px 2px rgba(0, 0, 0, 0.3));\n",
              "      fill: #FFFFFF;\n",
              "    }\n",
              "  </style>\n",
              "\n",
              "      <script>\n",
              "        const buttonEl =\n",
              "          document.querySelector('#df-a56b49d3-0396-4065-9b11-86bef3a6f8d9 button.colab-df-convert');\n",
              "        buttonEl.style.display =\n",
              "          google.colab.kernel.accessAllowed ? 'block' : 'none';\n",
              "\n",
              "        async function convertToInteractive(key) {\n",
              "          const element = document.querySelector('#df-a56b49d3-0396-4065-9b11-86bef3a6f8d9');\n",
              "          const dataTable =\n",
              "            await google.colab.kernel.invokeFunction('convertToInteractive',\n",
              "                                                     [key], {});\n",
              "          if (!dataTable) return;\n",
              "\n",
              "          const docLinkHtml = 'Like what you see? Visit the ' +\n",
              "            '<a target=\"_blank\" href=https://colab.research.google.com/notebooks/data_table.ipynb>data table notebook</a>'\n",
              "            + ' to learn more about interactive tables.';\n",
              "          element.innerHTML = '';\n",
              "          dataTable['output_type'] = 'display_data';\n",
              "          await google.colab.output.renderOutput(dataTable, element);\n",
              "          const docLink = document.createElement('div');\n",
              "          docLink.innerHTML = docLinkHtml;\n",
              "          element.appendChild(docLink);\n",
              "        }\n",
              "      </script>\n",
              "    </div>\n",
              "  </div>\n",
              "  "
            ],
            "text/plain": [
              "                  Total  Percent\n",
              "District              0      0.0\n",
              "Upazila_or_Thana      0      0.0"
            ]
          },
          "metadata": {}
        }
      ]
    },
    {
      "cell_type": "code",
      "source": [
        "# Checking for Duplicate Rows \n",
        "df_area.duplicated().sum()"
      ],
      "metadata": {
        "colab": {
          "base_uri": "https://localhost:8080/"
        },
        "id": "yNiVDDFtUR8a",
        "outputId": "0d7da8db-c16c-4526-8997-057ddbff275f"
      },
      "execution_count": 16,
      "outputs": [
        {
          "output_type": "execute_result",
          "data": {
            "text/plain": [
              "21800"
            ]
          },
          "metadata": {},
          "execution_count": 16
        }
      ]
    },
    {
      "cell_type": "code",
      "source": [
        "# Dropping Duplicates\n",
        "df_area.drop_duplicates(keep=\"first\", inplace=True)\n",
        "df_area.reset_index(drop=True, inplace=True)\n",
        "\n",
        "df_area.to_csv(\"locations.csv\", index=False)"
      ],
      "metadata": {
        "id": "LgXbfrJpUTR-"
      },
      "execution_count": null,
      "outputs": []
    },
    {
      "cell_type": "markdown",
      "source": [
        "# Initialization\n",
        "---\n",
        "Here, I am combining the Upazilla/Thana and its dedicated District into a string and storing them into ``` locations``` list. Later I will use this list for the searching query.\n",
        "\n",
        "I have also intialized the searching ``` radius ``` to 2000 Meter or 2 KM. \n",
        "\n",
        "Finally, I will store the Restaurants' information into ```restaurant_data``` \n",
        "\n"
      ],
      "metadata": {
        "id": "AL96WNryK-4M"
      }
    },
    {
      "cell_type": "code",
      "source": [
        "API_KEY = \"YOUR API KEY\"\n",
        "\n",
        "google_places = GooglePlaces(API_KEY)\n",
        "\n",
        "restaurant_data = []\n",
        "radius = 2000\n",
        "\n",
        "# Converting the list of Upazilla/Thana and District into a combined string\n",
        "locations = []\n",
        "list_areas = df_area.values.tolist()\n",
        "\n",
        "for area in list_areas:\n",
        "  location_name = ', '.join([str(item) for item in area])\n",
        "  locations.append(location_name)\n",
        "\n",
        "print(locations)"
      ],
      "metadata": {
        "colab": {
          "base_uri": "https://localhost:8080/"
        },
        "id": "iUUEg_V3L8NA",
        "outputId": "083a7e99-c551-45b2-8918-88e267209d16"
      },
      "execution_count": 18,
      "outputs": [
        {
          "output_type": "stream",
          "name": "stdout",
          "text": [
            "['Kawkhali, Pirojpur', 'Mathbaria, Pirojpur', 'Nazirpur, Pirojpur', 'Nesarabad, Pirojpur', 'Pirojpur Sadar, Pirojpur', 'Zianagar, Pirojpur', 'Akhaura, Brahmanbaria', 'Ashuganj, Brahmanbaria', 'Brahmanbaria Sadar, Brahmanbaria', 'Bancharampur, Brahmanbaria', 'Bijoynagar, Brahmanbaria', 'Kasba, Brahmanbaria', 'Nabinagar, Brahmanbaria', 'Nasirnagar, Brahmanbaria', 'Sarail, Brahmanbaria', 'Alikadam, Bandarban', 'Bandarban Sadar, Bandarban', 'Lama, Bandarban', 'Naikhongchhari, Bandarban', 'Rowangchari, Bandarban', 'Ruma, Bandarban', 'Thanchi, Bandarban', 'Chandpur Sadar, Chandpur', 'Faridganj, Chandpur', 'Haimchar, Chandpur', 'Hajiganj, Chandpur', 'Kachua, Chandpur', 'Matlab (Dakshin), Chandpur', 'Matlab (Uttar), Chandpur', 'Shahrasti, Chandpur', 'Anwara, Chittagong', 'Banskhali, Chittagong', 'Boalkhali, Chittagong', 'Chandanish, Chittagong', 'Fatikchari, Chittagong', 'Karnaphuli, Chittagong', 'Lohagara, Chittagong', 'Mirsharai, Chittagong', 'Patiya, Chittagong', 'Rangunia, Chittagong', 'Raozan, Chittagong', 'Sandwip, Chittagong', 'Satkania, Chittagong', 'Sitakunda, Chittagong', \"Chakoria, Cox'S Bazar\", \"Cox's Bazar Sadar, Cox'S Bazar\", \"Kutubdia, Cox'S Bazar\", \"Moheshkhali, Cox'S Bazar\", \"Pekua, Cox'S Bazar\", \"Ramu, Cox'S Bazar\", \"Teknaf, Cox'S Bazar\", \"Ukhiya, Cox'S Bazar\", 'Barura, Cumilla', 'Brahmanpara, Cumilla', 'Burichong, Cumilla', 'Chandina, Cumilla', 'Chauddagram, Cumilla', 'Cumilla Sadar, Cumilla', 'Cumilla Sadar Daksin, Cumilla', 'Daudkandi, Cumilla', 'Debidwar, Cumilla', 'Homna, Cumilla', 'Laksham, Cumilla', 'Lalmai, Cumilla', 'Meghna, Cumilla', 'Monohorganj, Cumilla', 'Muradnagar, Cumilla', 'Nangalkot, Cumilla', 'Titas, Cumilla', 'Chhagalniya, Feni', 'Daganbhuiyan, Feni', 'Amtali, Barguna', 'Bamna, Barguna', 'Barguna Sadar, Barguna', 'Betagi, Barguna', 'Patharghata, Barguna', 'Taltali, Barguna', 'Agailjhara, Barishal', 'Babuganj, Barishal', 'Bakerganj, Barishal', 'Banaripara, Barishal', 'Barishal Sadar, Barishal', 'Hizla, Barishal', 'Mehendiganj, Barishal', 'Muladi, Barishal', 'Uzirpur, Barishal', 'Bhola-S, Bhola', 'Borhanuddin, Bhola', 'Charfassion, Bhola', 'Daulatkhan, Bhola', 'Lalmohan, Bhola', 'Monpura, Bhola', 'Tazumuddin, Bhola', 'Jhalokathi Sadar, Jhalokathi', 'Kathalia, Jhalokathi', 'Nalchity, Jhalokathi', 'Rajapur, Jhalokathi', 'Bauphal, Patuakhali', 'Dashmina, Patuakhali', 'Dumki, Patuakhali', 'Galachipa, Patuakhali', 'Kalapara, Patuakhali', 'Mirzaganj, Patuakhali', 'Patuakhali Sadar, Patuakhali', 'Rangabali, Patuakhali', 'Bhandaria, Pirojpur', 'Hathazari, Chittagong', 'Feni Sadar, Feni', 'Fulgazi, Feni', 'Porshuram, Feni', 'Sonagazi, Feni', 'Dighinala, Khagrachari', 'Guimara, Khagrachari', 'Khagrachari Sadar, Khagrachari', 'Laxmichari, Khagrachari', 'Mahalchari, Khagrachari', 'Manikchari, Khagrachari', 'Matiranga, Khagrachari', 'Panchari, Khagrachari', 'Ramgarh, Khagrachari', 'Komol Nagar,  Laxmipur', ' Laxmipur Sadar,  Laxmipur', 'Raipur,  Laxmipur', 'Ramganj,  Laxmipur', 'Ramgati,  Laxmipur', 'Begumganj, Noakhali', 'Chatkhil, Noakhali', 'Companiganj, Noakhali', 'Hatiya, Noakhali', 'Kabir Hat, Noakhali', 'Noakhali Sadar, Noakhali', 'Senbag, Noakhali', 'Sonaimuri, Noakhali', 'Subarna Char, Noakhali', 'Baghaichari, Rangamati', 'Barkal, Rangamati', 'Belaichari, Rangamati', 'Juraichari, Rangamati', 'Kaptai, Rangamati', 'Kaukhali, Rangamati', 'Langadu, Rangamati', 'Nanniarchar, Rangamati', 'Rajosthali, Rangamati', 'Rangamati Sadar, Rangamati', 'Dhamrai, Dhaka', 'Dohar, Dhaka', 'Keraniganj, Dhaka', 'Nawabganj, Dhaka', 'Savar, Dhaka', 'Alfadanga, Faridpur', 'Bhanga, Faridpur', 'Boalmari, Faridpur', 'Charbhadrasan, Faridpur', 'Faridpur Sadar, Faridpur', 'Madhukhali, Faridpur', 'Nagarkanda, Faridpur', 'Sadarpur, Faridpur', 'Saltha, Faridpur', 'Gazipur Sadar, Gazipur', 'Kaliakoir, Gazipur', 'Kaligonj, Gazipur', 'Kapasia, Gazipur', 'Sreepur, Gazipur', 'Gopalganj Sadar, Gopalganj', 'Kasiani, Gopalganj', 'Kotalipara, Gopalganj', 'Muksudpur, Gopalganj', 'Tungipara, Gopalganj', 'Austagram, Kishoreganj', 'Bajitpur, Kishoreganj', 'Bhairab, Kishoreganj', 'Hossainpur, Kishoreganj', 'Itna, Kishoreganj', 'Karimganj, Kishoreganj', 'Katiadi, Kishoreganj', 'Kishoreganj Sadar, Kishoreganj', 'Kuliarchar, Kishoreganj', 'Mithamoin, Kishoreganj', 'Nikli, Kishoreganj', 'Pakundia, Kishoreganj', 'Tarail, Kishoreganj', 'Kalkini, Madaripur', 'Madaripur Sadar, Madaripur', 'Rajoir, Madaripur', 'Shibchar, Madaripur', 'Daulatpur, Manikganj', 'Ghior, Manikganj', 'Harirampur, Manikganj', 'Manikganj Sadar, Manikganj', 'Saturia, Manikganj', 'Shivalaya, Manikganj', 'Singair, Munshiganj', 'Gazaria, Munshiganj', 'Lauhajong, Munshiganj', 'Munshiganj Sadar, Munshiganj', 'Sirajdikhan, Munshiganj', 'Sreenagar, Munshiganj', 'Tongibari, Munshiganj', 'Araihazar, Narayanganj', 'Bandar, Narayanganj', 'Narayanganj Sadar, Narayanganj', 'Rupganj, Narayanganj', 'Sonargaon, Narayanganj', 'Belabo, Narshingdi', 'Monohardi, Narshingdi', 'Narshingdi Sadar, Narshingdi', 'Palash, Narshingdi', 'Raipura, Narshingdi', 'Shibpur, Narshingdi', 'Baliakandi, Rajbari', 'Goalanda, Rajbari', 'Kalukhali, Rajbari', 'Pangsha, Rajbari', 'Rajbari Sadar, Rajbari', 'Bhedarganj, Shariatpur', 'Damuddya, Shariatpur', 'Goshairhat, Shariatpur', 'Janjira, Shariatpur', 'Naria, Shariatpur', 'Shariatpur Sadar, Shariatpur', 'Basail, Tangail', 'Bhuapur, Tangail', 'Delduar, Tangail', 'Dhanbari, Tangail', 'Ghatail, Tangail', 'Gopalpur, Tangail', 'Kalihati, Tangail', 'Madhupur, Tangail', 'Mirzapur, Tangail', 'Nagarpur, Tangail', 'Shakhipur, Tangail', 'Tangail Sadar, Tangail', 'Bagerhat Sadar, Bagerhat', 'Chitalmari, Bagerhat', 'Fakirhat, Bagerhat', 'Kachua, Bagerhat', 'Mollahat, Bagerhat', 'Mongla, Bagerhat', 'Morrelganj, Bagerhat', 'Rampal, Bagerhat', 'Sharankhola, Bagerhat', 'Alamdanga, Chuadanga', 'Chuadanga Sadar, Chuadanga', 'Damurhuda, Chuadanga', 'Jibannagar, Chuadanga', 'Abhoynagar, Jashore', 'Bagherpara, Jashore', 'Chowgacha, Jashore', 'Jashore Sadar, Jashore', 'Jhikargacha, Jashore', 'Keshabpur, Jashore', 'Monirampur, Jashore', 'Sarsha, Jashore', 'Harinakunda, Jhenaidah', 'Jhenaidah Sadar, Jhenaidah', 'Kaliganj, Jhenaidah', 'Kotchandpur, Jhenaidah', 'Moheshpur, Jhenaidah', 'Shailkupa, Jhenaidah', 'Batiaghata, Khulna', 'Dacope, Khulna', 'Dighalia, Khulna', 'Dumuria, Khulna', 'Koira, Khulna', 'Paikgacha, Khulna', 'Phultala, Khulna', 'Rupsa, Khulna', 'Terokhada, Khulna', 'Bheramara, Kushtia', 'Daulatpur, Kushtia', 'Khoksha, Kushtia', 'Kumarkhali, Kushtia', 'Kushtia Sadar, Kushtia', 'Mirpur, Kushtia', 'Magura Sadar, Magura', 'Mohammadpur, Magura', 'Salikha, Magura', 'Sreepur, Magura', 'Gangni, Meherpur', 'Meherpur Sadar, Meherpur', 'Mujibnagar, Meherpur', 'Kalia, Narail', 'Lohagara, Narail', 'Narail Sadar, Narail', 'Assasuni, Satkhira', 'Debhata, Satkhira', 'Kalaroa, Satkhira', 'Kaliganj, Satkhira', 'Satkhira Sadar, Satkhira', 'Shyamnagar, Satkhira', 'Tala, Satkhira', 'Bakshiganj, Jamalpur', 'Dewanganj, Jamalpur', 'Islampur, Jamalpur', 'Jamalpur Sadar, Jamalpur', 'Madarganj, Jamalpur', 'Melendah, Jamalpur', 'Sarishabari, Jamalpur', 'Bhaluka, Mymensingh', 'Dhobaura, Mymensingh', 'Fulbaria, Mymensingh', 'Gaffargaon, Mymensingh', 'Gouripur, Mymensingh', 'Haluaghat, Mymensingh', 'Ishwarganj, Mymensingh', 'Muktagacha, Mymensingh', 'Mymensingh Sadar, Mymensingh', 'Nandail, Mymensingh', 'Phulpur, Mymensingh', 'Tarakanda, Mymensingh', 'Trishal, Mymensingh', 'Atpara, Netrakona', 'Barhatta, Netrakona', 'Durgapur, Netrakona', 'Kalmakanda, Netrakona', 'Kendua, Netrakona', 'Khaliajuri, Netrakona', 'Madan, Netrakona', 'Mohanganj, Netrakona', 'Netrakona Sadar, Netrakona', 'Purbadhala, Netrakona', 'Jhenaigati, Sherpur', 'Nakla, Sherpur', 'Nalitabari, Sherpur', 'Sherpur Sadar, Sherpur', 'Sreebordi, Sherpur', 'Adamdighi, Bogura', 'Bogura Sadar, Bogura', 'Dhunot, Bogura', 'Dhupchancia, Bogura', 'Gabtali, Bogura', 'Kahaloo, Bogura', 'Nandigram, Bogura', 'Sariakandi, Bogura', 'Shajahanpur, Bogura', 'Sherpur, Bogura', 'Shibganj, Bogura', 'Sonatala, Bogura', 'Bholahat, Chapainawabganj', 'Gomostapur, Chapainawabganj', 'Nachol, Chapainawabganj', 'Nawabganj Sadar, Chapainawabganj', 'Shibganj, Chapainawabganj', 'Akkelpur, Joypurhat', 'Joypurhat Sadar, Joypurhat', 'Kalai, Joypurhat', 'Khetlal, Joypurhat', 'Panchbibi, Joypurhat', 'Atrai, Naogaon', 'Badalgachi, Naogaon', 'Dhamoirhat, Naogaon', 'Manda, Naogaon', 'Mohadevpur, Naogaon', 'Naogaon Sadar, Naogaon', 'Niamatpur, Naogaon', 'Patnitala, Naogaon', 'Porsha, Naogaon', 'Raninagar, Naogaon', 'Sapahar, Naogaon', 'Bagatipara, Natore', 'Baraigram, Natore', 'Gurudaspur, Natore', 'Lalpur, Natore', 'Naldanga, Natore', 'Natore Sadar, Natore', 'Singra, Natore', 'Atghoria, Pabna', 'Bera, Pabna', 'Bhangura, Pabna', 'Chatmohar, Pabna', 'Faridpur, Pabna', 'Ishwardi, Pabna', 'Pabna Sadar, Pabna', 'Santhia, Pabna', 'Sujanagar, Pabna', 'Bagha, Rajshahi', 'Bagmara, Rajshahi', 'Charghat, Rajshahi', 'Durgapur, Rajshahi', 'Godagari, Rajshahi', 'Mohanpur, Rajshahi', 'Paba, Rajshahi', 'Puthia, Rajshahi', 'Tanore, Rajshahi', 'Belkuchi, Sirajganj', 'Chowhali, Sirajganj', 'Kamarkhanda, Sirajganj', 'Kazipur, Sirajganj', 'Raiganj, Sirajganj', 'Shahzadpur, Sirajganj', 'Sirajganj Sadar, Sirajganj', 'Tarash, Sirajganj', 'Ullapara, Sirajganj', 'Birampur, Dinajpur', 'Birganj, Dinajpur', 'Birol, Dinajpur', 'Bochaganj, Dinajpur', 'Chirirbandar, Dinajpur', 'Dinajpur Sadar, Dinajpur', 'Fulbari, Dinajpur', 'Ghoraghat, Dinajpur', 'Hakimpur, Dinajpur', 'Kaharol, Dinajpur', 'Khanshama, Dinajpur', 'Nawabganj, Dinajpur', 'Parbatipur, Dinajpur', 'Fulchari, Gaibandha', 'Gaibandha Sadar, Gaibandha', 'Gobindaganj, Gaibandha', 'Palashbari, Gaibandha', 'Sadullapur, Gaibandha', 'Saghata, Gaibandha', 'Sundarganj, Gaibandha', 'Bhurungamari, Kurigram', 'Chilmari, Kurigram', 'Fulbari, Kurigram', 'Kurigram Sadar, Kurigram', 'Nageswari, Kurigram', 'Rajarhat, Kurigram', 'Char Rajibpur, Kurigram', 'Rowmari, Kurigram', 'Ulipur, Kurigram', 'Aditmari, Lalmonirhat', 'Hatibandha, Lalmonirhat', 'Kaliganj, Lalmonirhat', 'Lalmonirhat Sadar, Lalmonirhat', 'Patgram, Lalmonirhat', 'Dimla, Nilphamari', 'Domar, Nilphamari', 'Jaldhaka, Nilphamari', 'Kishoreganj, Nilphamari', 'Nilphamari Sadar, Nilphamari', 'Sayedpur, Nilphamari', 'Atwari, Panchagarh', 'Boda, Panchagarh', 'Debiganj, Panchagarh', 'Panchagarh Sadar, Panchagarh', 'Tetulia, Panchagarh', 'Badarganj, Rangpur', 'Gangachara, Rangpur', 'Kaunia, Rangpur', 'Mithapukur, Rangpur', 'Pirgacha, Rangpur', 'Pirganj, Rangpur', 'Rangpur Sadar, Rangpur', 'Taraganj, Rangpur', 'Baliadangi, Thakurgaon', 'Haripur, Thakurgaon', 'Pirganj, Thakurgaon', 'Ranisankail, Thakurgaon', 'Thakurgaon Sadar, Thakurgaon', 'Ajmiriganj, Habiganj', 'Bahubal, Habiganj', 'Baniachong, Habiganj', 'Chunarughat, Habiganj', 'Habiganj Sadar, Habiganj', 'Lakhai, Habiganj', 'Madhabpur, Habiganj', 'Nabiganj, Habiganj', 'Sayestaganj, Habiganj', 'Barlekha, Moulvibazar', 'Juri, Moulvibazar', 'Kamalganj, Moulvibazar', 'Kulaura, Moulvibazar', 'Moulvibazar Sadar, Moulvibazar', 'Rajnagar, Moulvibazar', 'Sreemangal, Moulvibazar', 'Biswamvarpur, Sunamganj', 'Chatak, Sunamganj', 'Dakshin Sunamganj, Sunamganj', 'Derai, Sunamganj', 'Dharmapasha, Sunamganj', 'Dowarabazar, Sunamganj', 'Jagannathpur, Sunamganj', 'Jamalganj, Sunamganj', 'Sulla, Sunamganj', 'Sunamganj Sadar, Sunamganj', 'Tahirpur, Sunamganj', 'Balaganj, Sylhet', 'Beanibazar, Sylhet', 'Biswanath, Sylhet', 'Companiganj, Sylhet', 'Dakshin Surma, Sylhet', 'Fenchuganj, Sylhet', 'Golapganj, Sylhet', 'Gowainghat, Sylhet', 'Jointiapur, Sylhet', 'Kanaighat, Sylhet', 'Osmaninagar, Sylhet', 'Sylhet Sadar, Sylhet', 'Zakiganj, Sylhet', 'Gournadi, Barishal', 'Doarabazar, Sunamganj', 'Adabar, Dhaka', 'Uttar Khan, Dhaka', 'Uttara, Dhaka', 'Kadamtali, Dhaka', 'Kalabagan, Dhaka', 'Kafrul, Dhaka', 'Kamrangirchar, Dhaka', 'Cantonment, Dhaka', 'Kotwali, Dhaka', 'Khilkhet, Dhaka', 'Khilgaon, Dhaka', 'Gulshan, Dhaka', 'Gandaria, Dhaka', 'Chawkbazar, Dhaka', 'Demra, Dhaka', 'Turag, Dhaka', 'Tejgaon, Dhaka', 'Tejgaon Industrial Area, Dhaka', 'Dakshinkhan, Dhaka', 'Darus Salam, Dhaka', 'Dhanmondi, Dhaka', 'New Market, Dhaka', 'Paltan, Dhaka', 'Pallabi, Dhaka', 'Bangshal, Dhaka', 'Badda, Dhaka', 'Bimanbandar, Dhaka', 'Motijheel, Dhaka', 'Mirpur, Dhaka', 'Mohammadpur, Dhaka', 'Jatrabari, Dhaka', 'Ramna, Dhaka', 'Rampura, Dhaka', 'Lalbagh, Dhaka', 'Shah Ali, Dhaka', 'Shahbagh, Dhaka', 'Sher-e-Bangla Nagar, Dhaka', 'Shyampur, Dhaka', 'Sabujbagh, Dhaka', 'Sutrapur, Dhaka', 'Hazaribagh, Dhaka', 'Banani, Dhaka', 'Bhashantek, Dhaka', 'Vatara, Dhaka', 'Mugda, Dhaka', 'Rupnagar, Dhaka', 'Wari, Dhaka', 'Bayejid Bostami, Chittagong', 'Bakalia, Chittagong', 'Chandgaon, Chittagong', 'Chittagong Bandar, Chittagong', 'Double Mooring, Chittagong', 'Halishahar, Chittagong', 'Kotwali, Chittagong', 'Khulshi, Chittagong', 'Pahartali, Chittagong', 'Panchlaish, Chittagong', 'Patenga, Chittagong', 'Daulatpur, Khulna', 'Khalishpur, Khulna', 'Khan Jahan Ali, Khulna', 'Kotwali, Khulna', 'Sonadanga, Khulna', 'Boalia, Rajshahi', 'Matihar, Rajshahi', 'Rajpara, Rajshahi', 'Shah Makhdum, Rajshahi']\n"
          ]
        }
      ]
    },
    {
      "cell_type": "markdown",
      "source": [
        "# Restaurant Scraper \n",
        "\n",
        "---\n",
        "\n"
      ],
      "metadata": {
        "id": "BnRHBWWMTLDz"
      }
    },
    {
      "cell_type": "code",
      "source": [
        "%%time\n",
        "\n",
        "for location in locations:\n",
        "  print(\"---------------------\", location, \"-----------------------\")\n",
        "  query_result = google_places.nearby_search(\n",
        "          location=location, keyword='Restaurant',\n",
        "          radius=radius) \n",
        "\n",
        "  if query_result:\n",
        "  \n",
        "    for place in query_result.places:\n",
        "      place.get_details()\n",
        "\n",
        "      place_id = place.details.get('place_id')\n",
        "      name = place.name\n",
        "      latitude = place.geo_location.get('lat')\n",
        "      longitude = place.geo_location.get('lng')\n",
        "      rating = place.rating\n",
        "      number_of_reviews = place.details.get('user_ratings_total')\n",
        "      affluence = place.details.get('price_level')\n",
        "      address = place.formatted_address\n",
        "\n",
        "      restaurant_data.append([place_id, name, latitude, longitude, rating, number_of_reviews, affluence, address])\n",
        "      # print(place.details)\n",
        "\n",
        "    # print(restaurant_data)\n",
        "    print(\"--------------------- Scrapped Restaurants: \", len(restaurant_data))\n",
        "    time.sleep(5) \n",
        "\n",
        "    while query_result.has_next_page_token:\n",
        "        query_result = google_places.nearby_search(location=location, keyword='Restaurant',\n",
        "            radius=radius, pagetoken=query_result.next_page_token)\n",
        "        \n",
        "        for place in query_result.places:\n",
        "          place.get_details()\n",
        "\n",
        "          place_id = place.details.get('place_id')\n",
        "          name = place.name\n",
        "          latitude = place.geo_location.get('lat')\n",
        "          longitude = place.geo_location.get('lng')\n",
        "          rating = place.rating\n",
        "          number_of_reviews = place.details.get('user_ratings_total')\n",
        "          affluence = place.details.get('price_level')\n",
        "          address = place.formatted_address\n",
        "\n",
        "          restaurant_data.append([place_id, name, latitude, longitude, rating, number_of_reviews, affluence, address])\n",
        "          # print(place.details)\n",
        "        # print(restaurant_data)  \n",
        "        print(\"--------------------- Scrapped Restaurants: \", len(restaurant_data))\n",
        "        time.sleep(5) \n",
        "\n",
        "  time.sleep(5)\n",
        "\n",
        "# Dumping the data into a DataFrame\n",
        "df_restaurant = pd.DataFrame(restaurant_data, columns=['place_id', 'name', 'latitude', 'longitude', 'rating', 'number_of_reviews', 'affluence', 'address'])\n",
        "\n",
        "df_restaurant.to_csv(\"restaurants.csv\", index=False, encoding='utf-8')"
      ],
      "metadata": {
        "id": "zGRzu5uoUd9d"
      },
      "execution_count": null,
      "outputs": []
    },
    {
      "cell_type": "markdown",
      "source": [
        "# Data Preparation\n",
        "\n",
        "---\n"
      ],
      "metadata": {
        "id": "OKYAREuNYyVD"
      }
    },
    {
      "cell_type": "code",
      "source": [
        "restaurant_df = pd.read_csv(\"/content/restaurants.csv\", encoding='utf-8')\n",
        "\n",
        "display(restaurant_df.duplicated().sum())"
      ],
      "metadata": {
        "colab": {
          "base_uri": "https://localhost:8080/",
          "height": 34
        },
        "id": "cqCiNEP0aBQi",
        "outputId": "d497fa2f-229a-4d6d-930f-d2d619887866"
      },
      "execution_count": 66,
      "outputs": [
        {
          "output_type": "display_data",
          "data": {
            "text/plain": [
              "1945"
            ]
          },
          "metadata": {}
        }
      ]
    },
    {
      "cell_type": "markdown",
      "source": [
        "**There are 1945 Duplicate Data present in the dataframe.**"
      ],
      "metadata": {
        "id": "CFCrNehzZ51Y"
      }
    },
    {
      "cell_type": "code",
      "source": [
        "restaurant_df.drop_duplicates(keep=\"first\", inplace=True)"
      ],
      "metadata": {
        "id": "7wNtZOThEI8O"
      },
      "execution_count": 67,
      "outputs": []
    },
    {
      "cell_type": "markdown",
      "source": [
        "**Here, I kept the address of each restaurant to check whether they are in Bangladeh or Not. As we can see below, 62 restaurants are in India.**"
      ],
      "metadata": {
        "id": "lwFyZyo9YwHR"
      }
    },
    {
      "cell_type": "code",
      "source": [
        "res_not_bangladesh = restaurant_df[restaurant_df['address'].str.contains('Bangladesh')==False]\n",
        "res_not_bangladesh"
      ],
      "metadata": {
        "colab": {
          "base_uri": "https://localhost:8080/",
          "height": 424
        },
        "id": "PiKPHmxbH0GC",
        "outputId": "b3be4d3d-f639-4f19-b34e-bb35d516d0e7"
      },
      "execution_count": 68,
      "outputs": [
        {
          "output_type": "execute_result",
          "data": {
            "text/html": [
              "\n",
              "  <div id=\"df-520905ac-3627-465d-9fa7-d98b1ed94e14\">\n",
              "    <div class=\"colab-df-container\">\n",
              "      <div>\n",
              "<style scoped>\n",
              "    .dataframe tbody tr th:only-of-type {\n",
              "        vertical-align: middle;\n",
              "    }\n",
              "\n",
              "    .dataframe tbody tr th {\n",
              "        vertical-align: top;\n",
              "    }\n",
              "\n",
              "    .dataframe thead th {\n",
              "        text-align: right;\n",
              "    }\n",
              "</style>\n",
              "<table border=\"1\" class=\"dataframe\">\n",
              "  <thead>\n",
              "    <tr style=\"text-align: right;\">\n",
              "      <th></th>\n",
              "      <th>place_id</th>\n",
              "      <th>name</th>\n",
              "      <th>latitude</th>\n",
              "      <th>longitude</th>\n",
              "      <th>rating</th>\n",
              "      <th>number_of_reviews</th>\n",
              "      <th>affluence</th>\n",
              "      <th>address</th>\n",
              "    </tr>\n",
              "  </thead>\n",
              "  <tbody>\n",
              "    <tr>\n",
              "      <th>2249</th>\n",
              "      <td>ChIJM3pmh-oZUzcRxEj0i0X72NM</td>\n",
              "      <td>Juice🍹&amp; Spice🌶</td>\n",
              "      <td>23.003974</td>\n",
              "      <td>91.729881</td>\n",
              "      <td>0.0</td>\n",
              "      <td>NaN</td>\n",
              "      <td>NaN</td>\n",
              "      <td>2P3H+HXJ, Sabroom, Tripura 799145, India</td>\n",
              "    </tr>\n",
              "    <tr>\n",
              "      <th>2252</th>\n",
              "      <td>ChIJ2dxRyT0ZUzcRVlumPmgbV3c</td>\n",
              "      <td>Pushpa fast food</td>\n",
              "      <td>23.000829</td>\n",
              "      <td>91.727325</td>\n",
              "      <td>4.7</td>\n",
              "      <td>9.0</td>\n",
              "      <td>NaN</td>\n",
              "      <td>Pushpa fast food chotokhil Rd, opposite of bag...</td>\n",
              "    </tr>\n",
              "    <tr>\n",
              "      <th>2258</th>\n",
              "      <td>ChIJi_nlqHcZUzcRKjNPd5Cctnk</td>\n",
              "      <td>Upalabdhi Food Plaza</td>\n",
              "      <td>23.002733</td>\n",
              "      <td>91.729778</td>\n",
              "      <td>3.5</td>\n",
              "      <td>4.0</td>\n",
              "      <td>NaN</td>\n",
              "      <td>2P3H+3WR, Sabroom, Tripura 799145, India</td>\n",
              "    </tr>\n",
              "    <tr>\n",
              "      <th>2264</th>\n",
              "      <td>ChIJAWkn0lsZUzcRI1rLiUVf23o</td>\n",
              "      <td>Sabroom New Bus Stand</td>\n",
              "      <td>23.009141</td>\n",
              "      <td>91.725767</td>\n",
              "      <td>4.5</td>\n",
              "      <td>2.0</td>\n",
              "      <td>NaN</td>\n",
              "      <td>2P5G+M82, Sabroom, Tripura 799145, India</td>\n",
              "    </tr>\n",
              "    <tr>\n",
              "      <th>6347</th>\n",
              "      <td>ChIJczRZgTMB-zkRgvpD1QO1Yt8</td>\n",
              "      <td>M/S. Prapty Caterer &amp; NANDITA Biriyani House</td>\n",
              "      <td>24.959450</td>\n",
              "      <td>88.240887</td>\n",
              "      <td>2.0</td>\n",
              "      <td>3.0</td>\n",
              "      <td>NaN</td>\n",
              "      <td>Aiho, West Bengal 732121, India</td>\n",
              "    </tr>\n",
              "    <tr>\n",
              "      <th>...</th>\n",
              "      <td>...</td>\n",
              "      <td>...</td>\n",
              "      <td>...</td>\n",
              "      <td>...</td>\n",
              "      <td>...</td>\n",
              "      <td>...</td>\n",
              "      <td>...</td>\n",
              "      <td>...</td>\n",
              "    </tr>\n",
              "    <tr>\n",
              "      <th>8967</th>\n",
              "      <td>ChIJZxA1UjjTUTcRh4Rn0s1dzog</td>\n",
              "      <td>Corner Cafe</td>\n",
              "      <td>24.871413</td>\n",
              "      <td>92.359391</td>\n",
              "      <td>3.3</td>\n",
              "      <td>132.0</td>\n",
              "      <td>NaN</td>\n",
              "      <td>V9C5+HQ6, Karimganj, Assam 788710, India</td>\n",
              "    </tr>\n",
              "    <tr>\n",
              "      <th>8968</th>\n",
              "      <td>ChIJS34qNcrTUTcRnUTJMI3uwL0</td>\n",
              "      <td>Hotel City View</td>\n",
              "      <td>24.869049</td>\n",
              "      <td>92.364834</td>\n",
              "      <td>3.8</td>\n",
              "      <td>5.0</td>\n",
              "      <td>NaN</td>\n",
              "      <td>Main Road, opp. Congress Office, Karimganj, As...</td>\n",
              "    </tr>\n",
              "    <tr>\n",
              "      <th>8969</th>\n",
              "      <td>ChIJw27U4zvTUTcRx5sfB5fjcPU</td>\n",
              "      <td>Mamoni Hotel</td>\n",
              "      <td>24.869008</td>\n",
              "      <td>92.356553</td>\n",
              "      <td>3.2</td>\n",
              "      <td>34.0</td>\n",
              "      <td>NaN</td>\n",
              "      <td>Circuit House Rd, Karimganj, Assam 788710, India</td>\n",
              "    </tr>\n",
              "    <tr>\n",
              "      <th>8970</th>\n",
              "      <td>ChIJ7WS_-EPTUTcRmnPXC2fm4W4</td>\n",
              "      <td>Ahar Hotel And Aheli Restaurant</td>\n",
              "      <td>24.867414</td>\n",
              "      <td>92.366639</td>\n",
              "      <td>3.6</td>\n",
              "      <td>250.0</td>\n",
              "      <td>NaN</td>\n",
              "      <td>Shiv Bari Rd, Near Shib Mandir, Karimganj, Ass...</td>\n",
              "    </tr>\n",
              "    <tr>\n",
              "      <th>8971</th>\n",
              "      <td>ChIJ2VCwvvzTUTcRyJM86bkiGzU</td>\n",
              "      <td>Kasturi Passport Centres</td>\n",
              "      <td>24.867124</td>\n",
              "      <td>92.369013</td>\n",
              "      <td>5.0</td>\n",
              "      <td>1.0</td>\n",
              "      <td>NaN</td>\n",
              "      <td>Station Rd, Karimganj, Assam 788710, India</td>\n",
              "    </tr>\n",
              "  </tbody>\n",
              "</table>\n",
              "<p>62 rows × 8 columns</p>\n",
              "</div>\n",
              "      <button class=\"colab-df-convert\" onclick=\"convertToInteractive('df-520905ac-3627-465d-9fa7-d98b1ed94e14')\"\n",
              "              title=\"Convert this dataframe to an interactive table.\"\n",
              "              style=\"display:none;\">\n",
              "        \n",
              "  <svg xmlns=\"http://www.w3.org/2000/svg\" height=\"24px\"viewBox=\"0 0 24 24\"\n",
              "       width=\"24px\">\n",
              "    <path d=\"M0 0h24v24H0V0z\" fill=\"none\"/>\n",
              "    <path d=\"M18.56 5.44l.94 2.06.94-2.06 2.06-.94-2.06-.94-.94-2.06-.94 2.06-2.06.94zm-11 1L8.5 8.5l.94-2.06 2.06-.94-2.06-.94L8.5 2.5l-.94 2.06-2.06.94zm10 10l.94 2.06.94-2.06 2.06-.94-2.06-.94-.94-2.06-.94 2.06-2.06.94z\"/><path d=\"M17.41 7.96l-1.37-1.37c-.4-.4-.92-.59-1.43-.59-.52 0-1.04.2-1.43.59L10.3 9.45l-7.72 7.72c-.78.78-.78 2.05 0 2.83L4 21.41c.39.39.9.59 1.41.59.51 0 1.02-.2 1.41-.59l7.78-7.78 2.81-2.81c.8-.78.8-2.07 0-2.86zM5.41 20L4 18.59l7.72-7.72 1.47 1.35L5.41 20z\"/>\n",
              "  </svg>\n",
              "      </button>\n",
              "      \n",
              "  <style>\n",
              "    .colab-df-container {\n",
              "      display:flex;\n",
              "      flex-wrap:wrap;\n",
              "      gap: 12px;\n",
              "    }\n",
              "\n",
              "    .colab-df-convert {\n",
              "      background-color: #E8F0FE;\n",
              "      border: none;\n",
              "      border-radius: 50%;\n",
              "      cursor: pointer;\n",
              "      display: none;\n",
              "      fill: #1967D2;\n",
              "      height: 32px;\n",
              "      padding: 0 0 0 0;\n",
              "      width: 32px;\n",
              "    }\n",
              "\n",
              "    .colab-df-convert:hover {\n",
              "      background-color: #E2EBFA;\n",
              "      box-shadow: 0px 1px 2px rgba(60, 64, 67, 0.3), 0px 1px 3px 1px rgba(60, 64, 67, 0.15);\n",
              "      fill: #174EA6;\n",
              "    }\n",
              "\n",
              "    [theme=dark] .colab-df-convert {\n",
              "      background-color: #3B4455;\n",
              "      fill: #D2E3FC;\n",
              "    }\n",
              "\n",
              "    [theme=dark] .colab-df-convert:hover {\n",
              "      background-color: #434B5C;\n",
              "      box-shadow: 0px 1px 3px 1px rgba(0, 0, 0, 0.15);\n",
              "      filter: drop-shadow(0px 1px 2px rgba(0, 0, 0, 0.3));\n",
              "      fill: #FFFFFF;\n",
              "    }\n",
              "  </style>\n",
              "\n",
              "      <script>\n",
              "        const buttonEl =\n",
              "          document.querySelector('#df-520905ac-3627-465d-9fa7-d98b1ed94e14 button.colab-df-convert');\n",
              "        buttonEl.style.display =\n",
              "          google.colab.kernel.accessAllowed ? 'block' : 'none';\n",
              "\n",
              "        async function convertToInteractive(key) {\n",
              "          const element = document.querySelector('#df-520905ac-3627-465d-9fa7-d98b1ed94e14');\n",
              "          const dataTable =\n",
              "            await google.colab.kernel.invokeFunction('convertToInteractive',\n",
              "                                                     [key], {});\n",
              "          if (!dataTable) return;\n",
              "\n",
              "          const docLinkHtml = 'Like what you see? Visit the ' +\n",
              "            '<a target=\"_blank\" href=https://colab.research.google.com/notebooks/data_table.ipynb>data table notebook</a>'\n",
              "            + ' to learn more about interactive tables.';\n",
              "          element.innerHTML = '';\n",
              "          dataTable['output_type'] = 'display_data';\n",
              "          await google.colab.output.renderOutput(dataTable, element);\n",
              "          const docLink = document.createElement('div');\n",
              "          docLink.innerHTML = docLinkHtml;\n",
              "          element.appendChild(docLink);\n",
              "        }\n",
              "      </script>\n",
              "    </div>\n",
              "  </div>\n",
              "  "
            ],
            "text/plain": [
              "                         place_id  ...                                            address\n",
              "2249  ChIJM3pmh-oZUzcRxEj0i0X72NM  ...           2P3H+HXJ, Sabroom, Tripura 799145, India\n",
              "2252  ChIJ2dxRyT0ZUzcRVlumPmgbV3c  ...  Pushpa fast food chotokhil Rd, opposite of bag...\n",
              "2258  ChIJi_nlqHcZUzcRKjNPd5Cctnk  ...           2P3H+3WR, Sabroom, Tripura 799145, India\n",
              "2264  ChIJAWkn0lsZUzcRI1rLiUVf23o  ...           2P5G+M82, Sabroom, Tripura 799145, India\n",
              "6347  ChIJczRZgTMB-zkRgvpD1QO1Yt8  ...                    Aiho, West Bengal 732121, India\n",
              "...                           ...  ...                                                ...\n",
              "8967  ChIJZxA1UjjTUTcRh4Rn0s1dzog  ...           V9C5+HQ6, Karimganj, Assam 788710, India\n",
              "8968  ChIJS34qNcrTUTcRnUTJMI3uwL0  ...  Main Road, opp. Congress Office, Karimganj, As...\n",
              "8969  ChIJw27U4zvTUTcRx5sfB5fjcPU  ...   Circuit House Rd, Karimganj, Assam 788710, India\n",
              "8970  ChIJ7WS_-EPTUTcRmnPXC2fm4W4  ...  Shiv Bari Rd, Near Shib Mandir, Karimganj, Ass...\n",
              "8971  ChIJ2VCwvvzTUTcRyJM86bkiGzU  ...         Station Rd, Karimganj, Assam 788710, India\n",
              "\n",
              "[62 rows x 8 columns]"
            ]
          },
          "metadata": {},
          "execution_count": 68
        }
      ]
    },
    {
      "cell_type": "code",
      "source": [
        "restaurant_df = restaurant_df[restaurant_df['address'].str.contains('Bangladesh')==True]\n",
        "restaurant_df.reset_index(drop=True, inplace=True)"
      ],
      "metadata": {
        "id": "MZ6QRvz1aooN"
      },
      "execution_count": 69,
      "outputs": []
    },
    {
      "cell_type": "markdown",
      "source": [
        "**Now the dataframe ```restaurant_df``` contains only Bangladeshi restaurants.**"
      ],
      "metadata": {
        "id": "MkoCCH6TbL96"
      }
    },
    {
      "cell_type": "code",
      "source": [
        "def missing_value_describe(data):\n",
        "    # check missing values in the data\n",
        "    total = data.isna().sum().sort_values(ascending=False)\n",
        "    missing_value_pct_stats = (data.isnull().sum() / len(data)*100)\n",
        "    missing_value_col_count = sum(missing_value_pct_stats > 0)\n",
        "\n",
        "    # missing_value_stats = missing_value_pct_stats.sort_values(ascending=False)[:missing_value_col_count]\n",
        "    missing_data = pd.concat([total, missing_value_pct_stats], axis=1, keys=['Total', 'Percent'])\n",
        "\n",
        "    print(\"Number of rows with at least 1 missing values:\", data.isna().any(axis = 1).sum())\n",
        "    print(\"Number of columns with missing values:\", missing_value_col_count)\n",
        "\n",
        "    if missing_value_col_count != 0:\n",
        "        # print out column names with missing value percentage\n",
        "        print(\"\\nMissing percentage (desceding):\")\n",
        "        display(missing_data[:missing_value_col_count])\n",
        "\n",
        "        # plot missing values\n",
        "        missing = data.isnull().sum()\n",
        "        missing = missing[missing > 0]\n",
        "        missing.sort_values(inplace=True)\n",
        "        missing.plot.bar()\n",
        "    else:\n",
        "        print(\"No missing data!!!\")\n",
        "\n",
        "# pass a dataframe to the function\n",
        "missing_value_describe(restaurant_df)"
      ],
      "metadata": {
        "colab": {
          "base_uri": "https://localhost:8080/",
          "height": 549
        },
        "id": "o_peLlS2YTu4",
        "outputId": "26c53af3-726b-4f6e-f842-4014dc45d6c0"
      },
      "execution_count": 70,
      "outputs": [
        {
          "output_type": "stream",
          "name": "stdout",
          "text": [
            "Number of rows with at least 1 missing values: 9675\n",
            "Number of columns with missing values: 3\n",
            "\n",
            "Missing percentage (desceding):\n"
          ]
        },
        {
          "output_type": "display_data",
          "data": {
            "text/html": [
              "\n",
              "  <div id=\"df-5cc69ef7-761f-4c13-bc5d-d0375548b37d\">\n",
              "    <div class=\"colab-df-container\">\n",
              "      <div>\n",
              "<style scoped>\n",
              "    .dataframe tbody tr th:only-of-type {\n",
              "        vertical-align: middle;\n",
              "    }\n",
              "\n",
              "    .dataframe tbody tr th {\n",
              "        vertical-align: top;\n",
              "    }\n",
              "\n",
              "    .dataframe thead th {\n",
              "        text-align: right;\n",
              "    }\n",
              "</style>\n",
              "<table border=\"1\" class=\"dataframe\">\n",
              "  <thead>\n",
              "    <tr style=\"text-align: right;\">\n",
              "      <th></th>\n",
              "      <th>Total</th>\n",
              "      <th>Percent</th>\n",
              "    </tr>\n",
              "  </thead>\n",
              "  <tbody>\n",
              "    <tr>\n",
              "      <th>affluence</th>\n",
              "      <td>9672</td>\n",
              "      <td>90.426328</td>\n",
              "    </tr>\n",
              "    <tr>\n",
              "      <th>number_of_reviews</th>\n",
              "      <td>2528</td>\n",
              "      <td>23.635004</td>\n",
              "    </tr>\n",
              "    <tr>\n",
              "      <th>rating</th>\n",
              "      <td>1</td>\n",
              "      <td>0.009349</td>\n",
              "    </tr>\n",
              "  </tbody>\n",
              "</table>\n",
              "</div>\n",
              "      <button class=\"colab-df-convert\" onclick=\"convertToInteractive('df-5cc69ef7-761f-4c13-bc5d-d0375548b37d')\"\n",
              "              title=\"Convert this dataframe to an interactive table.\"\n",
              "              style=\"display:none;\">\n",
              "        \n",
              "  <svg xmlns=\"http://www.w3.org/2000/svg\" height=\"24px\"viewBox=\"0 0 24 24\"\n",
              "       width=\"24px\">\n",
              "    <path d=\"M0 0h24v24H0V0z\" fill=\"none\"/>\n",
              "    <path d=\"M18.56 5.44l.94 2.06.94-2.06 2.06-.94-2.06-.94-.94-2.06-.94 2.06-2.06.94zm-11 1L8.5 8.5l.94-2.06 2.06-.94-2.06-.94L8.5 2.5l-.94 2.06-2.06.94zm10 10l.94 2.06.94-2.06 2.06-.94-2.06-.94-.94-2.06-.94 2.06-2.06.94z\"/><path d=\"M17.41 7.96l-1.37-1.37c-.4-.4-.92-.59-1.43-.59-.52 0-1.04.2-1.43.59L10.3 9.45l-7.72 7.72c-.78.78-.78 2.05 0 2.83L4 21.41c.39.39.9.59 1.41.59.51 0 1.02-.2 1.41-.59l7.78-7.78 2.81-2.81c.8-.78.8-2.07 0-2.86zM5.41 20L4 18.59l7.72-7.72 1.47 1.35L5.41 20z\"/>\n",
              "  </svg>\n",
              "      </button>\n",
              "      \n",
              "  <style>\n",
              "    .colab-df-container {\n",
              "      display:flex;\n",
              "      flex-wrap:wrap;\n",
              "      gap: 12px;\n",
              "    }\n",
              "\n",
              "    .colab-df-convert {\n",
              "      background-color: #E8F0FE;\n",
              "      border: none;\n",
              "      border-radius: 50%;\n",
              "      cursor: pointer;\n",
              "      display: none;\n",
              "      fill: #1967D2;\n",
              "      height: 32px;\n",
              "      padding: 0 0 0 0;\n",
              "      width: 32px;\n",
              "    }\n",
              "\n",
              "    .colab-df-convert:hover {\n",
              "      background-color: #E2EBFA;\n",
              "      box-shadow: 0px 1px 2px rgba(60, 64, 67, 0.3), 0px 1px 3px 1px rgba(60, 64, 67, 0.15);\n",
              "      fill: #174EA6;\n",
              "    }\n",
              "\n",
              "    [theme=dark] .colab-df-convert {\n",
              "      background-color: #3B4455;\n",
              "      fill: #D2E3FC;\n",
              "    }\n",
              "\n",
              "    [theme=dark] .colab-df-convert:hover {\n",
              "      background-color: #434B5C;\n",
              "      box-shadow: 0px 1px 3px 1px rgba(0, 0, 0, 0.15);\n",
              "      filter: drop-shadow(0px 1px 2px rgba(0, 0, 0, 0.3));\n",
              "      fill: #FFFFFF;\n",
              "    }\n",
              "  </style>\n",
              "\n",
              "      <script>\n",
              "        const buttonEl =\n",
              "          document.querySelector('#df-5cc69ef7-761f-4c13-bc5d-d0375548b37d button.colab-df-convert');\n",
              "        buttonEl.style.display =\n",
              "          google.colab.kernel.accessAllowed ? 'block' : 'none';\n",
              "\n",
              "        async function convertToInteractive(key) {\n",
              "          const element = document.querySelector('#df-5cc69ef7-761f-4c13-bc5d-d0375548b37d');\n",
              "          const dataTable =\n",
              "            await google.colab.kernel.invokeFunction('convertToInteractive',\n",
              "                                                     [key], {});\n",
              "          if (!dataTable) return;\n",
              "\n",
              "          const docLinkHtml = 'Like what you see? Visit the ' +\n",
              "            '<a target=\"_blank\" href=https://colab.research.google.com/notebooks/data_table.ipynb>data table notebook</a>'\n",
              "            + ' to learn more about interactive tables.';\n",
              "          element.innerHTML = '';\n",
              "          dataTable['output_type'] = 'display_data';\n",
              "          await google.colab.output.renderOutput(dataTable, element);\n",
              "          const docLink = document.createElement('div');\n",
              "          docLink.innerHTML = docLinkHtml;\n",
              "          element.appendChild(docLink);\n",
              "        }\n",
              "      </script>\n",
              "    </div>\n",
              "  </div>\n",
              "  "
            ],
            "text/plain": [
              "                   Total    Percent\n",
              "affluence           9672  90.426328\n",
              "number_of_reviews   2528  23.635004\n",
              "rating                 1   0.009349"
            ]
          },
          "metadata": {}
        },
        {
          "output_type": "display_data",
          "data": {
            "image/png": "[encoded data removed]",
            "text/plain": [
              "<Figure size 432x288 with 1 Axes>"
            ]
          },
          "metadata": {
            "needs_background": "light"
          }
        }
      ]
    },
    {
      "cell_type": "markdown",
      "source": [
        "**Converting the Affluence Level ```1.0, 2.0, 3.0...``` to ```$, $$, $$$...```**"
      ],
      "metadata": {
        "id": "MFhQ-8iQg0P9"
      }
    },
    {
      "cell_type": "code",
      "source": [
        "restaurant_df['affluence'] = restaurant_df['affluence'].replace([1.0, 2.0, 3.0, 4.0],['$', '$$', '$$$', '$$$$'])\n",
        "restaurant_df[restaurant_df['affluence'].notna()==True]"
      ],
      "metadata": {
        "colab": {
          "base_uri": "https://localhost:8080/",
          "height": 424
        },
        "id": "FO_JAOnlbkfK",
        "outputId": "d979c9b0-4bd0-487b-e304-1656528217ef"
      },
      "execution_count": 62,
      "outputs": [
        {
          "output_type": "execute_result",
          "data": {
            "text/html": [
              "\n",
              "  <div id=\"df-f1ba15a4-b11d-4e37-a236-f3fb41c9e510\">\n",
              "    <div class=\"colab-df-container\">\n",
              "      <div>\n",
              "<style scoped>\n",
              "    .dataframe tbody tr th:only-of-type {\n",
              "        vertical-align: middle;\n",
              "    }\n",
              "\n",
              "    .dataframe tbody tr th {\n",
              "        vertical-align: top;\n",
              "    }\n",
              "\n",
              "    .dataframe thead th {\n",
              "        text-align: right;\n",
              "    }\n",
              "</style>\n",
              "<table border=\"1\" class=\"dataframe\">\n",
              "  <thead>\n",
              "    <tr style=\"text-align: right;\">\n",
              "      <th></th>\n",
              "      <th>place_id</th>\n",
              "      <th>name</th>\n",
              "      <th>latitude</th>\n",
              "      <th>longitude</th>\n",
              "      <th>rating</th>\n",
              "      <th>number_of_reviews</th>\n",
              "      <th>affluence</th>\n",
              "      <th>address</th>\n",
              "    </tr>\n",
              "  </thead>\n",
              "  <tbody>\n",
              "    <tr>\n",
              "      <th>12</th>\n",
              "      <td>ChIJJwuMBKoLADoRcGUOid7tMUg</td>\n",
              "      <td>ক্যাফে আড্ডা মঠবাড়িয়া</td>\n",
              "      <td>22.286668</td>\n",
              "      <td>89.958363</td>\n",
              "      <td>3.9</td>\n",
              "      <td>165.0</td>\n",
              "      <td>$$</td>\n",
              "      <td>7XP5+M89, Mathbaria, Bangladesh</td>\n",
              "    </tr>\n",
              "    <tr>\n",
              "      <th>30</th>\n",
              "      <td>ChIJR6ppFA5RVTcR7vhuJ_FPWME</td>\n",
              "      <td>Touhid Tea Store</td>\n",
              "      <td>22.746173</td>\n",
              "      <td>90.103694</td>\n",
              "      <td>4.1</td>\n",
              "      <td>37.0</td>\n",
              "      <td>$</td>\n",
              "      <td>Swarupkathi Bridge, Swarupkathi, Bangladesh</td>\n",
              "    </tr>\n",
              "    <tr>\n",
              "      <th>81</th>\n",
              "      <td>ChIJkdicn2gBADoRZgU_lUomDDw</td>\n",
              "      <td>Hotel Rose Garden</td>\n",
              "      <td>22.578679</td>\n",
              "      <td>89.968584</td>\n",
              "      <td>3.8</td>\n",
              "      <td>81.0</td>\n",
              "      <td>$</td>\n",
              "      <td>Post Office Rd, Pirojpur Pourashava, Bangladesh</td>\n",
              "    </tr>\n",
              "    <tr>\n",
              "      <th>87</th>\n",
              "      <td>ChIJEyplIFEAADoRw_6MExFtfr8</td>\n",
              "      <td>Hotel Apyayon</td>\n",
              "      <td>22.579484</td>\n",
              "      <td>89.969643</td>\n",
              "      <td>3.5</td>\n",
              "      <td>31.0</td>\n",
              "      <td>$</td>\n",
              "      <td>HXH9+QVR, Pirojpur Pourashava, Bangladesh</td>\n",
              "    </tr>\n",
              "    <tr>\n",
              "      <th>92</th>\n",
              "      <td>ChIJIRrrteQJVDcRi_9mQMEBerA</td>\n",
              "      <td>Nawab Chinese Restaurant and Party Center</td>\n",
              "      <td>23.865913</td>\n",
              "      <td>91.206187</td>\n",
              "      <td>4.4</td>\n",
              "      <td>50.0</td>\n",
              "      <td>$</td>\n",
              "      <td>Shahid Amir Hossen Road (1st floor, আখাউড়া, B...</td>\n",
              "    </tr>\n",
              "    <tr>\n",
              "      <th>...</th>\n",
              "      <td>...</td>\n",
              "      <td>...</td>\n",
              "      <td>...</td>\n",
              "      <td>...</td>\n",
              "      <td>...</td>\n",
              "      <td>...</td>\n",
              "      <td>...</td>\n",
              "      <td>...</td>\n",
              "    </tr>\n",
              "    <tr>\n",
              "      <th>10669</th>\n",
              "      <td>ChIJ-daAjkXu-zkRKA09tfrQTSI</td>\n",
              "      <td>Party Point Thai and Chinese Restaurant</td>\n",
              "      <td>24.386058</td>\n",
              "      <td>88.608380</td>\n",
              "      <td>3.9</td>\n",
              "      <td>196.0</td>\n",
              "      <td>$$</td>\n",
              "      <td>Ground floor,1st and 2nd Floor, B.G.B Gate Rif...</td>\n",
              "    </tr>\n",
              "    <tr>\n",
              "      <th>10681</th>\n",
              "      <td>ChIJKx-b407u-zkR7VQuYVQ6ysk</td>\n",
              "      <td>Razia Chinese and Thai Restaurant</td>\n",
              "      <td>24.383917</td>\n",
              "      <td>88.607963</td>\n",
              "      <td>3.7</td>\n",
              "      <td>49.0</td>\n",
              "      <td>$$</td>\n",
              "      <td>R685, Rajshahi 6203, Bangladesh</td>\n",
              "    </tr>\n",
              "    <tr>\n",
              "      <th>10685</th>\n",
              "      <td>ChIJbUqeQkXu-zkRPx152Vjuq3w</td>\n",
              "      <td>Muskan Hotel And Restaurant</td>\n",
              "      <td>24.388027</td>\n",
              "      <td>88.606072</td>\n",
              "      <td>3.8</td>\n",
              "      <td>99.0</td>\n",
              "      <td>$</td>\n",
              "      <td>Bisik Match Factory Moor, Sapura, Boalia, Rajs...</td>\n",
              "    </tr>\n",
              "    <tr>\n",
              "      <th>10686</th>\n",
              "      <td>ChIJJ0af2v_u-zkRhBVjVemblw0</td>\n",
              "      <td>Mona Hotel &amp; Restaurant</td>\n",
              "      <td>24.375834</td>\n",
              "      <td>88.593381</td>\n",
              "      <td>3.7</td>\n",
              "      <td>14.0</td>\n",
              "      <td>$</td>\n",
              "      <td>9HGV+89J, Rajshahi, Bangladesh</td>\n",
              "    </tr>\n",
              "    <tr>\n",
              "      <th>10694</th>\n",
              "      <td>ChIJB-JYPK3v-zkRzte9zqVK9vY</td>\n",
              "      <td>Bindu Hotel And Restaurant</td>\n",
              "      <td>24.374020</td>\n",
              "      <td>88.603169</td>\n",
              "      <td>3.8</td>\n",
              "      <td>689.0</td>\n",
              "      <td>$</td>\n",
              "      <td>Station Rd, Rajshahi 6000, Bangladesh</td>\n",
              "    </tr>\n",
              "  </tbody>\n",
              "</table>\n",
              "<p>1024 rows × 8 columns</p>\n",
              "</div>\n",
              "      <button class=\"colab-df-convert\" onclick=\"convertToInteractive('df-f1ba15a4-b11d-4e37-a236-f3fb41c9e510')\"\n",
              "              title=\"Convert this dataframe to an interactive table.\"\n",
              "              style=\"display:none;\">\n",
              "        \n",
              "  <svg xmlns=\"http://www.w3.org/2000/svg\" height=\"24px\"viewBox=\"0 0 24 24\"\n",
              "       width=\"24px\">\n",
              "    <path d=\"M0 0h24v24H0V0z\" fill=\"none\"/>\n",
              "    <path d=\"M18.56 5.44l.94 2.06.94-2.06 2.06-.94-2.06-.94-.94-2.06-.94 2.06-2.06.94zm-11 1L8.5 8.5l.94-2.06 2.06-.94-2.06-.94L8.5 2.5l-.94 2.06-2.06.94zm10 10l.94 2.06.94-2.06 2.06-.94-2.06-.94-.94-2.06-.94 2.06-2.06.94z\"/><path d=\"M17.41 7.96l-1.37-1.37c-.4-.4-.92-.59-1.43-.59-.52 0-1.04.2-1.43.59L10.3 9.45l-7.72 7.72c-.78.78-.78 2.05 0 2.83L4 21.41c.39.39.9.59 1.41.59.51 0 1.02-.2 1.41-.59l7.78-7.78 2.81-2.81c.8-.78.8-2.07 0-2.86zM5.41 20L4 18.59l7.72-7.72 1.47 1.35L5.41 20z\"/>\n",
              "  </svg>\n",
              "      </button>\n",
              "      \n",
              "  <style>\n",
              "    .colab-df-container {\n",
              "      display:flex;\n",
              "      flex-wrap:wrap;\n",
              "      gap: 12px;\n",
              "    }\n",
              "\n",
              "    .colab-df-convert {\n",
              "      background-color: #E8F0FE;\n",
              "      border: none;\n",
              "      border-radius: 50%;\n",
              "      cursor: pointer;\n",
              "      display: none;\n",
              "      fill: #1967D2;\n",
              "      height: 32px;\n",
              "      padding: 0 0 0 0;\n",
              "      width: 32px;\n",
              "    }\n",
              "\n",
              "    .colab-df-convert:hover {\n",
              "      background-color: #E2EBFA;\n",
              "      box-shadow: 0px 1px 2px rgba(60, 64, 67, 0.3), 0px 1px 3px 1px rgba(60, 64, 67, 0.15);\n",
              "      fill: #174EA6;\n",
              "    }\n",
              "\n",
              "    [theme=dark] .colab-df-convert {\n",
              "      background-color: #3B4455;\n",
              "      fill: #D2E3FC;\n",
              "    }\n",
              "\n",
              "    [theme=dark] .colab-df-convert:hover {\n",
              "      background-color: #434B5C;\n",
              "      box-shadow: 0px 1px 3px 1px rgba(0, 0, 0, 0.15);\n",
              "      filter: drop-shadow(0px 1px 2px rgba(0, 0, 0, 0.3));\n",
              "      fill: #FFFFFF;\n",
              "    }\n",
              "  </style>\n",
              "\n",
              "      <script>\n",
              "        const buttonEl =\n",
              "          document.querySelector('#df-f1ba15a4-b11d-4e37-a236-f3fb41c9e510 button.colab-df-convert');\n",
              "        buttonEl.style.display =\n",
              "          google.colab.kernel.accessAllowed ? 'block' : 'none';\n",
              "\n",
              "        async function convertToInteractive(key) {\n",
              "          const element = document.querySelector('#df-f1ba15a4-b11d-4e37-a236-f3fb41c9e510');\n",
              "          const dataTable =\n",
              "            await google.colab.kernel.invokeFunction('convertToInteractive',\n",
              "                                                     [key], {});\n",
              "          if (!dataTable) return;\n",
              "\n",
              "          const docLinkHtml = 'Like what you see? Visit the ' +\n",
              "            '<a target=\"_blank\" href=https://colab.research.google.com/notebooks/data_table.ipynb>data table notebook</a>'\n",
              "            + ' to learn more about interactive tables.';\n",
              "          element.innerHTML = '';\n",
              "          dataTable['output_type'] = 'display_data';\n",
              "          await google.colab.output.renderOutput(dataTable, element);\n",
              "          const docLink = document.createElement('div');\n",
              "          docLink.innerHTML = docLinkHtml;\n",
              "          element.appendChild(docLink);\n",
              "        }\n",
              "      </script>\n",
              "    </div>\n",
              "  </div>\n",
              "  "
            ],
            "text/plain": [
              "                          place_id  ...                                            address\n",
              "12     ChIJJwuMBKoLADoRcGUOid7tMUg  ...                    7XP5+M89, Mathbaria, Bangladesh\n",
              "30     ChIJR6ppFA5RVTcR7vhuJ_FPWME  ...        Swarupkathi Bridge, Swarupkathi, Bangladesh\n",
              "81     ChIJkdicn2gBADoRZgU_lUomDDw  ...    Post Office Rd, Pirojpur Pourashava, Bangladesh\n",
              "87     ChIJEyplIFEAADoRw_6MExFtfr8  ...          HXH9+QVR, Pirojpur Pourashava, Bangladesh\n",
              "92     ChIJIRrrteQJVDcRi_9mQMEBerA  ...  Shahid Amir Hossen Road (1st floor, আখাউড়া, B...\n",
              "...                            ...  ...                                                ...\n",
              "10669  ChIJ-daAjkXu-zkRKA09tfrQTSI  ...  Ground floor,1st and 2nd Floor, B.G.B Gate Rif...\n",
              "10681  ChIJKx-b407u-zkR7VQuYVQ6ysk  ...                    R685, Rajshahi 6203, Bangladesh\n",
              "10685  ChIJbUqeQkXu-zkRPx152Vjuq3w  ...  Bisik Match Factory Moor, Sapura, Boalia, Rajs...\n",
              "10686  ChIJJ0af2v_u-zkRhBVjVemblw0  ...                     9HGV+89J, Rajshahi, Bangladesh\n",
              "10694  ChIJB-JYPK3v-zkRzte9zqVK9vY  ...              Station Rd, Rajshahi 6000, Bangladesh\n",
              "\n",
              "[1024 rows x 8 columns]"
            ]
          },
          "metadata": {},
          "execution_count": 62
        }
      ]
    },
    {
      "cell_type": "markdown",
      "source": [
        "**Saving the final dataframe into CSV**"
      ],
      "metadata": {
        "id": "ysJHxVYfikIx"
      }
    },
    {
      "cell_type": "code",
      "source": [
        "final_df = restaurant_df[['name',\t'latitude',\t'longitude',\t'rating',\t'number_of_reviews',\t'affluence']]\n",
        "\n",
        "final_df.to_csv(\"bangladesh_restaurants.csv\", index=False, encoding='utf-8')"
      ],
      "metadata": {
        "id": "XroT6jplhM43"
      },
      "execution_count": 65,
      "outputs": []
    },
    {
      "cell_type": "markdown",
      "source": [
        "# Remarks\n",
        "\n",
        "\n",
        "---\n",
        "\n",
        "**The dataset may contain some anomalies such as Tea Stores or Food Stores that are also registered under Restaurant keyword. More extensive cleaning can be done to handle such issues in the future.**\n"
      ],
      "metadata": {
        "id": "2c6-xVgNx1YN"
      }
    }
  ]
}